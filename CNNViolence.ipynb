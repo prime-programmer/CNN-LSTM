{
  "nbformat": 4,
  "nbformat_minor": 0,
  "metadata": {
    "colab": {
      "name": "CNNViolence",
      "provenance": [],
      "collapsed_sections": []
    },
    "kernelspec": {
      "display_name": "Python 3",
      "name": "python3"
    },
    "language_info": {
      "name": "python"
    },
    "accelerator": "GPU"
  },
  "cells": [
    {
      "cell_type": "code",
      "metadata": {
        "id": "WwX4ihrzkGNo"
      },
      "source": [
        "from tensorflow.python.eager.context import num_gpus\n",
        "from tensorflow.python.keras.engine.compile_utils import LossesContainer\n",
        "from tensorflow.python.keras.layers.convolutional import Conv\n",
        "from tqdm import tqdm\n",
        "import os\n",
        "import cv2\n",
        "import tensorflow as tf\n",
        "import numpy as np\n",
        "from random import shuffle\n",
        "import time\n",
        "import matplotlib.pyplot as plt\n",
        "from sklearn.model_selection import train_test_split\n",
        "from tensorflow.keras.layers import Dropout, LSTM, Conv2D, Bidirectional, Dense, MaxPooling2D, MaxPooling3D, Reshape, Flatten, TimeDistributed\n",
        "from tensorflow.keras.optimizers import SGD\n",
        "from tensorflow.keras.models import Sequential, load_model\n",
        "from tensorflow.keras.losses import CategoricalCrossentropy\n"
      ],
      "execution_count": null,
      "outputs": []
    },
    {
      "cell_type": "code",
      "metadata": {
        "colab": {
          "base_uri": "https://localhost:8080/"
        },
        "id": "eEqefmaLx79B",
        "outputId": "a4b2ad70-2d41-4d19-9706-b8f84ac84b27"
      },
      "source": [
        "from google.colab import drive\n",
        "drive.mount('/content/drive')"
      ],
      "execution_count": null,
      "outputs": [
        {
          "output_type": "stream",
          "text": [
            "Mounted at /content/drive\n"
          ],
          "name": "stdout"
        }
      ]
    },
    {
      "cell_type": "code",
      "metadata": {
        "id": "hJLXcVHLkfkd"
      },
      "source": [
        "#Global Variables\n",
        "IMG_SIZE = 100\n",
        "OPTIMIZER = 'SGD'\n",
        "LEARNING_RATE = 0.01\n",
        "DECAY = 1e-6\n",
        "EPOCHS = 25\n",
        "BATCH_SIZE = 5\n",
        "LOSS = CategoricalCrossentropy()\n",
        "NUM_FRAMES = 10\n",
        "KERNEL = 64"
      ],
      "execution_count": null,
      "outputs": []
    },
    {
      "cell_type": "code",
      "metadata": {
        "id": "cgEUnwSgkWkK"
      },
      "source": [
        "\n",
        "OUTPUTFILEPATH =\"./HockeyDataset/\"\n",
        "\n",
        "violenceIndicator ='fi'\n",
        "nonViolenceIndicator = 'no'\n",
        "\n",
        "if not os.path.exists(OUTPUTFILEPATH):\n",
        "    os.mkdir(OUTPUTFILEPATH)\n",
        "\n"
      ],
      "execution_count": null,
      "outputs": []
    },
    {
      "cell_type": "code",
      "metadata": {
        "id": "wl31-ADqkp6I"
      },
      "source": [
        "#Video Frame Extraction\n",
        "def extractFrames(folder):\n",
        "\n",
        "    if os.path.exists(folder) == False:\n",
        "        print(str(folder) + \" not found\")\n",
        "        return;\n",
        "\n",
        "    c =0\n",
        "    for files in tqdm(os.listdir(folder)):\n",
        "        path = os.path.join(folder, files)\n",
        "        cap = cv2.VideoCapture(path)\n",
        "\n",
        "        success = True\n",
        "\n",
        "        while success:\n",
        "            success, image = cap.read()\n",
        "\n",
        "            # RGB_img =cv2.cvtColor(image, cv2.COLOR_BGR2RGB)\n",
        "\n",
        "            RGB_img = image\n",
        "\n",
        "            if not success:\n",
        "                break\n",
        "\n",
        "            if (violenceIndicator in files):\n",
        "                if not os.path.exists(OUTPUTFILEPATH + \"/\" + violenceIndicator):\n",
        "                    os.mkdir(OUTPUTFILEPATH + \"/\" + violenceIndicator +\"/\")\n",
        "\n",
        "                cv2.resize(cv2.imwrite(OUTPUTFILEPATH + \"/\" + violenceIndicator+ \"/\"+ str(c) + '.jpg', RGB_img), (IMG_SIZE, IMG_SIZE))\n",
        "            else:\n",
        "                if not os.path.exists(OUTPUTFILEPATH + \"/\" + nonViolenceIndicator):\n",
        "                    os.mkdir(OUTPUTFILEPATH + \"/\" + nonViolenceIndicator +\"/\")\n",
        "                    \n",
        "                cv2.resize(cv2.imwrite(OUTPUTFILEPATH + \"/\" + nonViolenceIndicator+ \"/\"+ str(c) + '.jpg', RGB_img), (IMG_SIZE, IMG_SIZE))\n",
        "\n",
        "            c +=1\n",
        "    print(c)\n",
        "    print(\"Done with file extraction\")\n"
      ],
      "execution_count": null,
      "outputs": []
    },
    {
      "cell_type": "code",
      "metadata": {
        "id": "5u5jUCSdkzq5"
      },
      "source": [
        "#dataset generation\n",
        "def GenerateDataset():\n",
        "    dataset = []\n",
        "    images = []\n",
        "    limit = 0\n",
        "    \n",
        "    violenceFilePath = OUTPUTFILEPATH + violenceIndicator +\"/\"\n",
        "    nonViolenceFilePath = OUTPUTFILEPATH + nonViolenceIndicator + \"/\"\n",
        "\n",
        "    for frames in tqdm(os.listdir(violenceFilePath)):\n",
        "        path = os.path.join(violenceFilePath, frames)\n",
        "        img = cv2.resize(cv2.imread(path), (IMG_SIZE, IMG_SIZE))\n",
        "\n",
        "        images.append(np.array(img))\n",
        "        limit +=1\n",
        "    \n",
        "\n",
        "        if limit == NUM_FRAMES:\n",
        "            limit = 0\n",
        "            dataset.append(np.array([images, np.array([0, 1])]))\n",
        "            images = []\n",
        "\n",
        "    for frames in tqdm(os.listdir(nonViolenceFilePath)):\n",
        "        path = os.path.join(nonViolenceFilePath, frames)\n",
        "        img = cv2.resize(cv2.imread(path), (IMG_SIZE, IMG_SIZE))\n",
        "\n",
        "        images.append(np.array(img))\n",
        "        limit +=1\n",
        "    \n",
        "\n",
        "        if limit == NUM_FRAMES:\n",
        "            limit = 0\n",
        "            dataset.append(np.array([images, np.array([1, 0])]))\n",
        "            images = []\n",
        "\n",
        "\n",
        "    print(\"Dataset Count \" + str(len(dataset)))\n",
        "    shuffle(dataset)\n",
        "    np.save('datasetCNN.npy', dataset)\n",
        "    return dataset"
      ],
      "execution_count": null,
      "outputs": []
    },
    {
      "cell_type": "code",
      "metadata": {
        "colab": {
          "base_uri": "https://localhost:8080/"
        },
        "id": "LnCahhTSk_J1",
        "outputId": "d975a6a9-f6ba-49eb-e4fd-c6bf253e8da7"
      },
      "source": [
        "#Assign Extracted Data\n",
        "\n",
        "#__Extract frames from data____\n",
        "extractFrames(\"./drive/MyDrive/HockeyFights\")\n",
        "\n",
        "data = GenerateDataset()\n",
        "\n",
        "#Uncomment if data has been extracted\n",
        "#data = np.load('datasetCNN.npy', allow_pickle=True)\n",
        "\n",
        "#print(data)"
      ],
      "execution_count": null,
      "outputs": [
        {
          "output_type": "stream",
          "text": [
            "100%|██████████| 1012/1012 [10:10<00:00,  1.66it/s]\n"
          ],
          "name": "stderr"
        },
        {
          "output_type": "stream",
          "text": [
            "41548\n",
            "Done with file extraction\n"
          ],
          "name": "stdout"
        },
        {
          "output_type": "stream",
          "text": [
            "  0%|          | 0/20926 [00:00<?, ?it/s]/usr/local/lib/python3.7/dist-packages/ipykernel_launcher.py:20: VisibleDeprecationWarning: Creating an ndarray from ragged nested sequences (which is a list-or-tuple of lists-or-tuples-or ndarrays with different lengths or shapes) is deprecated. If you meant to do this, you must specify 'dtype=object' when creating the ndarray\n",
            "100%|██████████| 20926/20926 [00:31<00:00, 665.55it/s]\n",
            "  0%|          | 0/20622 [00:00<?, ?it/s]/usr/local/lib/python3.7/dist-packages/ipykernel_launcher.py:33: VisibleDeprecationWarning: Creating an ndarray from ragged nested sequences (which is a list-or-tuple of lists-or-tuples-or ndarrays with different lengths or shapes) is deprecated. If you meant to do this, you must specify 'dtype=object' when creating the ndarray\n",
            "100%|██████████| 20622/20622 [00:31<00:00, 660.21it/s]\n"
          ],
          "name": "stderr"
        },
        {
          "output_type": "stream",
          "text": [
            "Dataset Count 4154\n"
          ],
          "name": "stdout"
        }
      ]
    },
    {
      "cell_type": "code",
      "metadata": {
        "colab": {
          "base_uri": "https://localhost:8080/"
        },
        "id": "VFseBNBxlQtk",
        "outputId": "66f4445c-45e9-458e-a70d-2cb5d062f38b"
      },
      "source": [
        "\n",
        "train, test = train_test_split(data, train_size=0.7, shuffle=True)\n",
        "\n",
        "# print(train[0][1])\n",
        "# print(train[1][1])\n",
        "\n",
        "\n",
        "X = np.array([i[0] for i in train]).reshape(-1, NUM_FRAMES, IMG_SIZE, IMG_SIZE, 3)\n",
        "y = np.array([i[1] for i in train])\n",
        "\n",
        "x_valid = np.array([i[0] for i in test]).reshape(-1, NUM_FRAMES, IMG_SIZE, IMG_SIZE, 3)\n",
        "y_valid = np.array([i[1] for i in test])\n",
        "\n",
        "X = X.astype('float32')\n",
        "x_valid = x_valid.astype('float32')\n",
        "\n",
        "X /= 255\n",
        "x_valid /=255\n",
        "\n",
        "#print(X)\n",
        "print(\"Training sample size = \" +str(len(X)))\n",
        "print(\"Testing sample size = \" +str(len(x_valid)))\n",
        "print(x_valid.shape)\n",
        "print(y[0])\n",
        "print(len(y))\n"
      ],
      "execution_count": null,
      "outputs": [
        {
          "output_type": "stream",
          "text": [
            "Training sample size = 2907\n",
            "Testing sample size = 1247\n",
            "(1247, 10, 100, 100, 3)\n",
            "[0 1]\n",
            "2907\n"
          ],
          "name": "stdout"
        }
      ]
    },
    {
      "cell_type": "code",
      "metadata": {
        "colab": {
          "base_uri": "https://localhost:8080/"
        },
        "id": "avFgfaXSoFAx",
        "outputId": "4ffe0542-4c0c-4c90-9393-474f0b2c7d6b"
      },
      "source": [
        "print(X[1].shape);"
      ],
      "execution_count": null,
      "outputs": [
        {
          "output_type": "stream",
          "text": [
            "(10, 100, 100, 3)\n"
          ],
          "name": "stdout"
        }
      ]
    },
    {
      "cell_type": "code",
      "metadata": {
        "colab": {
          "base_uri": "https://localhost:8080/",
          "height": 302
        },
        "id": "_Wv2oB-9t3BC",
        "outputId": "995b6dbf-9286-46e6-a957-6f7cbd613a67"
      },
      "source": [
        "num = 111\n",
        "visible_frame = X[num]\n",
        "visible_frame =  np.array(visible_frame).reshape(10,100,100,3)\n",
        "\n",
        "plt.imshow(visible_frame[7])\n",
        "print(y[num])\n",
        "print(np.array)\n"
      ],
      "execution_count": null,
      "outputs": [
        {
          "output_type": "stream",
          "text": [
            "[1 0]\n",
            "<built-in function array>\n"
          ],
          "name": "stdout"
        },
        {
          "output_type": "display_data",
          "data": {
            "image/png": "[encoded data removed]",
            "text/plain": [
              "<Figure size 432x288 with 1 Axes>"
            ]
          },
          "metadata": {
            "needs_background": "light"
          }
        }
      ]
    },
    {
      "cell_type": "code",
      "metadata": {
        "colab": {
          "base_uri": "https://localhost:8080/"
        },
        "id": "_iwET7sxlIR6",
        "outputId": "f99ac079-fb6a-42d4-983e-de2e02512e19"
      },
      "source": [
        "#Architecture of Model\n",
        "\n",
        "model = Sequential()\n",
        "#input\n",
        "model.add(Conv2D(KERNEL, (3, 3), activation='relu',  input_shape = (NUM_FRAMES, IMG_SIZE, IMG_SIZE, 3), padding ='same'))\n",
        "\n",
        "#____v_____\n",
        "model.add(Conv2D(KERNEL, (3, 3), activation='relu'))\n",
        "model.add(MaxPooling3D((1,2,2)))\n",
        "model.add(Dropout(0.25))\n",
        "\n",
        "#____v_____\n",
        "model.add(Conv2D(KERNEL, (3, 3), activation='relu'))\n",
        "model.add(MaxPooling3D((1,2,2)))\n",
        "model.add(Dropout(0.25))\n",
        "\n",
        "#____v_____\n",
        "model.add(Conv2D(KERNEL, (3, 3), activation='relu'))\n",
        "model.add(MaxPooling3D((1,2,2)))\n",
        "model.add(Dropout(0.25))\n",
        "\n",
        "#___V____\n",
        "model.add(Flatten())\n",
        "#model.add(Reshape((NUM_FRAMES, KERNEL * IMG_SIZE)));\n",
        "\n",
        "#________V_________\n",
        "model.add(Dense(64, activation='relu'))\n",
        "model.add(Dense(32, activation='relu'))\n",
        "model.add(Dropout(0.5))\n",
        "#model.add(Dense(2, activation='softmax'))\n",
        "model.add(Dense(2, activation='sigmoid'))\n",
        "\n",
        "model.compile(loss= LOSS, optimizer= SGD(LEARNING_RATE), metrics=['accuracy'])\n",
        "\n",
        "model.summary()"
      ],
      "execution_count": null,
      "outputs": [
        {
          "output_type": "stream",
          "text": [
            "Model: \"sequential\"\n",
            "_________________________________________________________________\n",
            "Layer (type)                 Output Shape              Param #   \n",
            "=================================================================\n",
            "conv2d (Conv2D)              (None, 10, 100, 100, 64)  1792      \n",
            "_________________________________________________________________\n",
            "conv2d_1 (Conv2D)            (None, 10, 98, 98, 64)    36928     \n",
            "_________________________________________________________________\n",
            "max_pooling3d (MaxPooling3D) (None, 10, 49, 49, 64)    0         \n",
            "_________________________________________________________________\n",
            "dropout (Dropout)            (None, 10, 49, 49, 64)    0         \n",
            "_________________________________________________________________\n",
            "conv2d_2 (Conv2D)            (None, 10, 47, 47, 64)    36928     \n",
            "_________________________________________________________________\n",
            "max_pooling3d_1 (MaxPooling3 (None, 10, 23, 23, 64)    0         \n",
            "_________________________________________________________________\n",
            "dropout_1 (Dropout)          (None, 10, 23, 23, 64)    0         \n",
            "_________________________________________________________________\n",
            "conv2d_3 (Conv2D)            (None, 10, 21, 21, 64)    36928     \n",
            "_________________________________________________________________\n",
            "max_pooling3d_2 (MaxPooling3 (None, 10, 10, 10, 64)    0         \n",
            "_________________________________________________________________\n",
            "dropout_2 (Dropout)          (None, 10, 10, 10, 64)    0         \n",
            "_________________________________________________________________\n",
            "flatten (Flatten)            (None, 64000)             0         \n",
            "_________________________________________________________________\n",
            "dense (Dense)                (None, 64)                4096064   \n",
            "_________________________________________________________________\n",
            "dense_1 (Dense)              (None, 32)                2080      \n",
            "_________________________________________________________________\n",
            "dropout_3 (Dropout)          (None, 32)                0         \n",
            "_________________________________________________________________\n",
            "dense_2 (Dense)              (None, 2)                 66        \n",
            "=================================================================\n",
            "Total params: 4,210,786\n",
            "Trainable params: 4,210,786\n",
            "Non-trainable params: 0\n",
            "_________________________________________________________________\n"
          ],
          "name": "stdout"
        }
      ]
    },
    {
      "cell_type": "code",
      "metadata": {
        "id": "z2fDSPyYldtS",
        "colab": {
          "base_uri": "https://localhost:8080/"
        },
        "outputId": "e941cc8c-f1e8-4858-e934-fed38e054ae1"
      },
      "source": [
        "#Model Training\n",
        "history = model.fit(X, y, batch_size=BATCH_SIZE, epochs= EPOCHS, verbose=1, validation_data=(x_valid,y_valid))\n",
        "\n",
        "score = model.evaluate(x_valid, y_valid, verbose =0)\n",
        "print('Test loss', score[0])\n",
        "print('Test accuracy', score[1])"
      ],
      "execution_count": null,
      "outputs": [
        {
          "output_type": "stream",
          "text": [
            "Epoch 1/25\n",
            "582/582 [==============================] - ETA: 0s - loss: 0.4010 - accuracy: 0.8074"
          ],
          "name": "stdout"
        }
      ]
    },
    {
      "cell_type": "code",
      "metadata": {
        "id": "_2ePgPvLxcuV"
      },
      "source": [
        "history_dict = history.history;\n",
        "\n",
        "loss_value = history_dict['loss'];\n",
        "val_loss_value = history_dict['val_loss'];\n",
        "epoch = range(1,len(loss_value) + 1);\n",
        "\n",
        "line1 =plt.plot(epoch, val_loss_value, label=\"Validation/Test loss\");\n",
        "line2 =plt.plot(epoch, loss_value, label=\"Training loss\");\n",
        "\n",
        "plt.setp(line1, linewidth=2.0, marker ='+', markersize = 10.0);\n",
        "plt.setp(line2, linewidth=2.0, marker ='4', markersize = 10.0);\n",
        "\n",
        "plt.xlabel('Epochs');\n",
        "plt.ylabel('Loss');\n",
        "plt.grid(True);\n",
        "plt.legend()\n",
        "\n",
        "plt.show();"
      ],
      "execution_count": null,
      "outputs": []
    },
    {
      "cell_type": "code",
      "metadata": {
        "id": "b7bzQ-w4xc-W"
      },
      "source": [
        "history_dict = history.history;\n",
        "\n",
        "acc_value = history_dict['accuracy'];\n",
        "val_acc_value = history_dict['val_accuracy'];\n",
        "epoch = range(1,len(acc_value) + 1);\n",
        "\n",
        "line1 =plt.plot(epoch, val_acc_value, label=\"Validation/Test accuracy\");\n",
        "line2 =plt.plot(epoch, acc_value, label=\"Training accuracy\");\n",
        "\n",
        "plt.setp(line1, linewidth=2.0, marker ='+', markersize = 10.0);\n",
        "plt.setp(line2, linewidth=2.0, marker ='4', markersize = 10.0);\n",
        "\n",
        "plt.xlabel('Epochs');\n",
        "plt.ylabel('Accuracy');\n",
        "plt.grid(True);\n",
        "plt.legend()\n",
        "\n",
        "plt.show();\n"
      ],
      "execution_count": null,
      "outputs": []
    },
    {
      "cell_type": "code",
      "metadata": {
        "id": "f0sIhCmHxddq"
      },
      "source": [
        "model.save(\"SavedFirst/SavedFirst.h5\");\n",
        "print(\"Saved Model\");"
      ],
      "execution_count": null,
      "outputs": []
    },
    {
      "cell_type": "code",
      "metadata": {
        "id": "RhbEd4TUaCKP"
      },
      "source": [
        "classifier = load_model(\"SavedFirst/SavedFirst.h5\")\n",
        "\n",
        "classifier.summary()\n",
        "\n",
        "score = classifier.evaluate(x_valid, y_valid, verbose =0)\n",
        "print(y_valid)\n",
        "print('Test loss', score[0])\n",
        "print('Test accuracy', score[1])"
      ],
      "execution_count": null,
      "outputs": []
    },
    {
      "cell_type": "code",
      "metadata": {
        "id": "Sh2G5hVKXmNr"
      },
      "source": [
        "def showModelTest(input_value, prediction):\n",
        "  print(\"Prediction= \")\n",
        "  print(prediction)\n",
        "  plt.imshow(input_value)"
      ],
      "execution_count": null,
      "outputs": []
    },
    {
      "cell_type": "code",
      "metadata": {
        "id": "wHfWOxUKYZRM"
      },
      "source": [
        "rand = np.random.randint(0, len(x_valid))\n",
        "input_v = x_valid[rand]\n",
        "print(input_v.shape)\n",
        "\n",
        "input_v = input_v[0].reshape(100,100,3)\n",
        "\n",
        "print(x_valid[rand].shape)\n",
        "print(x_valid.shape);\n",
        "val = x_valid[rand].reshape(1,10,100,100,3)\n",
        "\n",
        "result = classifier.predict_classes(val, 1,  verbose = 0)\n",
        "\n",
        "print(result)\n",
        "\n",
        "showModelTest(input_v, str(result))"
      ],
      "execution_count": null,
      "outputs": []
    }
  ]
}